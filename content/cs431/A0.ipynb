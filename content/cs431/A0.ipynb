{
 "cells": [
  {
   "cell_type": "markdown",
   "metadata": {},
   "source": [
    "CS431/631 Big Data Infrastructure\n",
    "Winter 2018\n",
    "Assignment 0\n",
    "\n",
    "For this assignment, you will be using Python to do some analysis of the text of Shakespeare's plays.    You should already have uploaded the text file (Shakespeare.txt) to the hub.   You should also have downloaded the Python tokenizer module, as SimpleTokenize.py.\n",
    "\n",
    "Let's first try running some simple python code to make sure that everything is set up properly and ready to go.   The code in the next box will open Shakespeare.txt, read the file line by line, and tokenize each line that it reads in.    Try running the code by selecting the box and typing Shift-Return, i.e., hit the carriage return key while you are holding the shift key. "
   ]
  },
  {
   "cell_type": "code",
   "execution_count": 9,
   "metadata": {},
   "outputs": [
    {
     "data": {
      "text/plain": [
       "['the', 'end']"
      ]
     },
     "execution_count": 9,
     "metadata": {},
     "output_type": "execute_result"
    }
   ],
   "source": [
    "# this imports the SimpleTokenize function from the SimpleTokenize.py file that you uploaded\n",
    "from SimpleTokenize import SimpleTokenize\n",
    "\n",
    "# Now, let's tokenize Shakespeare's plays\n",
    "with open('Shakespeare.txt') as f:\n",
    "    for line in f:\n",
    "        t = SimpleTokenize(line)\n",
    "t"
   ]
  },
  {
   "cell_type": "markdown",
   "metadata": {},
   "source": [
    "Question 1:\n",
    "When the code is executed, the notebook will display the resulting output immediately after the code box.   In this case, you should see the output\n",
    "['the', 'end'].   In the next text box, briefly explain why the code produced this output.\n"
   ]
  },
  {
   "cell_type": "markdown",
   "metadata": {},
   "source": [
    "Your answer to Question 1 here:\n"
   ]
  },
  {
   "cell_type": "markdown",
   "metadata": {},
   "source": [
    "Remember that when you close and halt a notebook, any unsaved work in the notebook will be lost.   To save the contents of your notebook, use \"Save and Checkpoint\" (from the File menu).   \n",
    "\n",
    "Now, it is time for you to write some code.   Let's find the ten most frequently appearing tokens in Shakespeare's work.\n",
    "\n",
    "*Question 2:*\n",
    "In the next box, write Python code to list these tokens and their frequency, i.e., the number of times that each occurs.   Please use the SimpleTokenize function, without modification, to tokenize the text, so that everyone is working with the same definition of what a token is.   If you wish, feel free to start with the Python code in the box above - just copy it from there and paste it below."
   ]
  },
  {
   "cell_type": "code",
   "execution_count": null,
   "metadata": {
    "collapsed": true
   },
   "outputs": [],
   "source": [
    "# write your token frequency program in this box\n",
    "\n",
    "\n"
   ]
  },
  {
   "cell_type": "markdown",
   "metadata": {},
   "source": [
    "Great.  Let's try one more thing.\n",
    "\n",
    "Question 3:\n",
    "\n",
    "Instead of the most frequent tokens appearing in Shakespeare's works, suppose that we want a list of words that appear after the word \"perfect\", on the same line, in Shakespeare's text. \n",
    "(Note: the \"words\" we are interested in for this question are tokens, as returned by SimpleTokenize.)\n",
    "\n",
    "For example, All's Well That Ends Well includes the line\n",
    "    Ere I can perfect mine intents, to kneel.\n",
    "so \"mine\" should be part of the output.   To keep the output from getting too long, include only words that appear after \"perfect\" more than one time.\n",
    "\n",
    "In the next box, write Python code to list the words that follow \"perfect\" (more than once)."
   ]
  },
  {
   "cell_type": "code",
   "execution_count": null,
   "metadata": {
    "collapsed": true
   },
   "outputs": [],
   "source": [
    "# write your perfect-follower program in this box\n",
    "\n",
    "\n"
   ]
  },
  {
   "cell_type": "markdown",
   "metadata": {},
   "source": [
    "That's it.   Don't forget to save your work before closing and halting your notebook.   \n",
    "\n",
    "When you are finished and ready to submit your assignment, download your notebook file (.ipynb) from the hub to your machine, and then *instructions for submitting*."
   ]
  }
 ],
 "metadata": {
  "kernelspec": {
   "display_name": "Python 3",
   "language": "python",
   "name": "python3"
  },
  "language_info": {
   "codemirror_mode": {
    "name": "ipython",
    "version": 3
   },
   "file_extension": ".py",
   "mimetype": "text/x-python",
   "name": "python",
   "nbconvert_exporter": "python",
   "pygments_lexer": "ipython3",
   "version": "3.6.3"
  }
 },
 "nbformat": 4,
 "nbformat_minor": 2
}
